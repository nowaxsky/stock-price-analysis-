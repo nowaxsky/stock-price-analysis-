{
 "cells": [
  {
   "cell_type": "code",
   "execution_count": 36,
   "metadata": {
    "collapsed": false
   },
   "outputs": [
    {
     "name": "stdout",
     "output_type": "stream",
     "text": [
      "39.77\n",
      "90.38M\n",
      "41.44\n"
     ]
    }
   ],
   "source": [
    "from yahoo_finance import Share\n",
    "import csv\n",
    "\n",
    "yahoo = Share('YHOO')\n",
    "print(yahoo.get_open())\n",
    "print(yahoo.get_ebitda())\n",
    "print(yahoo.get_50day_moving_avg())"
   ]
  },
  {
   "cell_type": "code",
   "execution_count": 37,
   "metadata": {
    "collapsed": false
   },
   "outputs": [
    {
     "data": {
      "text/plain": [
       "[{'Adj_Close': '40.07',\n",
       "  'Close': '40.07',\n",
       "  'Date': '2016-12-02',\n",
       "  'High': '40.32',\n",
       "  'Low': '39.580002',\n",
       "  'Open': '39.77',\n",
       "  'Symbol': 'YHOO',\n",
       "  'Volume': '8568100'},\n",
       " {'Adj_Close': '39.630001',\n",
       "  'Close': '39.630001',\n",
       "  'Date': '2016-12-01',\n",
       "  'High': '41.040001',\n",
       "  'Low': '39.529999',\n",
       "  'Open': '41.00',\n",
       "  'Symbol': 'YHOO',\n",
       "  'Volume': '12614600'}]"
      ]
     },
     "execution_count": 37,
     "metadata": {},
     "output_type": "execute_result"
    }
   ],
   "source": [
    "data = yahoo.get_historical('2016-12-01', '2016-12-04')\n",
    "#print(yahoo.get_historical('2016-12-01', '2016-12-04'))\n",
    "#type(yahoo.get_historical('2016-12-01', '2016-12-04'))\n",
    "data"
   ]
  },
  {
   "cell_type": "code",
   "execution_count": 32,
   "metadata": {
    "collapsed": false
   },
   "outputs": [],
   "source": [
    "headers = ['Symbol','Date','High','Low','Close','Open','Volume','Adj_Close']\n",
    "\n",
    "with open('data.csv','w', newline='') as f:\n",
    "    f_csv = csv.DictWriter(f, headers)\n",
    "    f_csv.writeheader()\n",
    "    f_csv.writerows(data)"
   ]
  },
  {
   "cell_type": "code",
   "execution_count": null,
   "metadata": {
    "collapsed": true
   },
   "outputs": [],
   "source": []
  }
 ],
 "metadata": {
  "kernelspec": {
   "display_name": "Python 3",
   "language": "python",
   "name": "python3"
  },
  "language_info": {
   "codemirror_mode": {
    "name": "ipython",
    "version": 3
   },
   "file_extension": ".py",
   "mimetype": "text/x-python",
   "name": "python",
   "nbconvert_exporter": "python",
   "pygments_lexer": "ipython3",
   "version": "3.5.1"
  }
 },
 "nbformat": 4,
 "nbformat_minor": 0
}
